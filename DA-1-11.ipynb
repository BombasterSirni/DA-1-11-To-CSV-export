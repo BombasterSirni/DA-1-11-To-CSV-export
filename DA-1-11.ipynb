{
 "cells": [
  {
   "cell_type": "markdown",
   "id": "e17e68bf",
   "metadata": {},
   "source": [
    "ЗАДАЧА DA-1-11 ДАТА АНАЛИТИКА: ЭКСПОРТ В CSV-ФАЙЛ "
   ]
  },
  {
   "cell_type": "markdown",
   "id": "dfc820be",
   "metadata": {},
   "source": [
    "Подключая библитотеки:"
   ]
  },
  {
   "cell_type": "code",
   "execution_count": 10,
   "id": "36f3949e",
   "metadata": {},
   "outputs": [],
   "source": [
    "import numpy as np\n",
    "import pandas as pd\n",
    "import os"
   ]
  },
  {
   "cell_type": "markdown",
   "id": "28aa6ab6",
   "metadata": {},
   "source": [
    "Библиотека для создания синтетического датафрейма:"
   ]
  },
  {
   "cell_type": "code",
   "execution_count": 4,
   "id": "337102a9",
   "metadata": {},
   "outputs": [],
   "source": [
    "from sklearn.datasets import make_classification"
   ]
  },
  {
   "cell_type": "markdown",
   "id": "2eb0fe95",
   "metadata": {},
   "source": [
    "Генерация синтетического датафрейма:"
   ]
  },
  {
   "cell_type": "code",
   "execution_count": 7,
   "id": "84cd1c94",
   "metadata": {},
   "outputs": [],
   "source": [
    "X, y = make_classification(n_samples=400, n_features=5, random_state=52)\n",
    "data = pd.DataFrame(X, columns=['A', 'B', 'C', 'D', 'E'])\n",
    "data['Target'] = y\n"
   ]
  },
  {
   "cell_type": "markdown",
   "id": "8edf663e",
   "metadata": {},
   "source": [
    "Просмотрим первые 5 строк таблицы:"
   ]
  },
  {
   "cell_type": "code",
   "execution_count": 8,
   "id": "b9fc7264",
   "metadata": {},
   "outputs": [
    {
     "data": {
      "text/html": [
       "<div>\n",
       "<style scoped>\n",
       "    .dataframe tbody tr th:only-of-type {\n",
       "        vertical-align: middle;\n",
       "    }\n",
       "\n",
       "    .dataframe tbody tr th {\n",
       "        vertical-align: top;\n",
       "    }\n",
       "\n",
       "    .dataframe thead th {\n",
       "        text-align: right;\n",
       "    }\n",
       "</style>\n",
       "<table border=\"1\" class=\"dataframe\">\n",
       "  <thead>\n",
       "    <tr style=\"text-align: right;\">\n",
       "      <th></th>\n",
       "      <th>A</th>\n",
       "      <th>B</th>\n",
       "      <th>C</th>\n",
       "      <th>D</th>\n",
       "      <th>E</th>\n",
       "      <th>Target</th>\n",
       "    </tr>\n",
       "  </thead>\n",
       "  <tbody>\n",
       "    <tr>\n",
       "      <th>0</th>\n",
       "      <td>1.902399</td>\n",
       "      <td>-2.184404</td>\n",
       "      <td>-0.269948</td>\n",
       "      <td>-1.116465</td>\n",
       "      <td>2.296970</td>\n",
       "      <td>1</td>\n",
       "    </tr>\n",
       "    <tr>\n",
       "      <th>1</th>\n",
       "      <td>-2.082639</td>\n",
       "      <td>2.109050</td>\n",
       "      <td>0.332192</td>\n",
       "      <td>-1.676080</td>\n",
       "      <td>-2.309965</td>\n",
       "      <td>0</td>\n",
       "    </tr>\n",
       "    <tr>\n",
       "      <th>2</th>\n",
       "      <td>1.260101</td>\n",
       "      <td>-0.758631</td>\n",
       "      <td>-0.268201</td>\n",
       "      <td>-0.151450</td>\n",
       "      <td>1.022582</td>\n",
       "      <td>1</td>\n",
       "    </tr>\n",
       "    <tr>\n",
       "      <th>3</th>\n",
       "      <td>0.988952</td>\n",
       "      <td>-0.775667</td>\n",
       "      <td>-0.187075</td>\n",
       "      <td>-0.145425</td>\n",
       "      <td>0.933213</td>\n",
       "      <td>1</td>\n",
       "    </tr>\n",
       "    <tr>\n",
       "      <th>4</th>\n",
       "      <td>0.597542</td>\n",
       "      <td>1.397986</td>\n",
       "      <td>-0.355483</td>\n",
       "      <td>-1.226284</td>\n",
       "      <td>-0.789141</td>\n",
       "      <td>1</td>\n",
       "    </tr>\n",
       "  </tbody>\n",
       "</table>\n",
       "</div>"
      ],
      "text/plain": [
       "          A         B         C         D         E  Target\n",
       "0  1.902399 -2.184404 -0.269948 -1.116465  2.296970       1\n",
       "1 -2.082639  2.109050  0.332192 -1.676080 -2.309965       0\n",
       "2  1.260101 -0.758631 -0.268201 -0.151450  1.022582       1\n",
       "3  0.988952 -0.775667 -0.187075 -0.145425  0.933213       1\n",
       "4  0.597542  1.397986 -0.355483 -1.226284 -0.789141       1"
      ]
     },
     "execution_count": 8,
     "metadata": {},
     "output_type": "execute_result"
    }
   ],
   "source": [
    "data.head(5)"
   ]
  },
  {
   "cell_type": "markdown",
   "id": "6902664b",
   "metadata": {},
   "source": [
    "Экспорт датафрейма data в CSV-файл с помощью pd.to_csv() метода:"
   ]
  },
  {
   "cell_type": "code",
   "execution_count": 9,
   "id": "6745c29d",
   "metadata": {},
   "outputs": [],
   "source": [
    "data.to_csv(\"CSV-SYNTHODATA.csv\", index=None)"
   ]
  },
  {
   "cell_type": "markdown",
   "id": "b6d5ca0f",
   "metadata": {},
   "source": [
    "Проверка наличия CSV-файла в текущей директории:"
   ]
  },
  {
   "cell_type": "code",
   "execution_count": 12,
   "id": "f543679c",
   "metadata": {},
   "outputs": [
    {
     "data": {
      "text/plain": [
       "'Файл в папке? True'"
      ]
     },
     "execution_count": 12,
     "metadata": {},
     "output_type": "execute_result"
    }
   ],
   "source": [
    "f\"Файл в папке? {os.path.exists('CSV-SYNTHODATA.csv')}\""
   ]
  }
 ],
 "metadata": {
  "kernelspec": {
   "display_name": "base",
   "language": "python",
   "name": "python3"
  },
  "language_info": {
   "codemirror_mode": {
    "name": "ipython",
    "version": 3
   },
   "file_extension": ".py",
   "mimetype": "text/x-python",
   "name": "python",
   "nbconvert_exporter": "python",
   "pygments_lexer": "ipython3",
   "version": "3.12.3"
  }
 },
 "nbformat": 4,
 "nbformat_minor": 5
}
